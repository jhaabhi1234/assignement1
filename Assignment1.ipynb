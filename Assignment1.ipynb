{
 "cells": [
  {
   "cell_type": "code",
   "execution_count": null,
   "id": "f555c067-c7c2-4270-8a76-b5ccf0d30a8e",
   "metadata": {},
   "outputs": [],
   "source": [
    "1. In the below elements which of them are values or an expression? eg:- values can be\n",
    "integer or string and expressions will be mathematical operators.\n",
    "*\n",
    "&#39;hello&#39;\n",
    "-87.8\n",
    "-\n",
    "/\n",
    "+\n",
    "6"
   ]
  },
  {
   "cell_type": "code",
   "execution_count": null,
   "id": "4936086c-747c-48d0-a108-16bb69411e72",
   "metadata": {},
   "outputs": [],
   "source": [
    "ANS1) Valuers are below:\n",
    "          &#39;hello&#39; (String)\n",
    "        -87.8 (floating-point value)\n",
    "        6 (integer value)\n",
    "    \n",
    "    expressions are as below:\n",
    "        \n",
    "       * (mulptiply)\n",
    "       - (Sub)\n",
    "       / (Divide)\n",
    "       + (Add)\n"
   ]
  },
  {
   "cell_type": "code",
   "execution_count": null,
   "id": "8fa54f9b-da2d-43fa-bcb2-5d9e8ffffb1d",
   "metadata": {},
   "outputs": [],
   "source": [
    "2. What is the difference between string and variable?"
   ]
  },
  {
   "cell_type": "code",
   "execution_count": null,
   "id": "94b36c6d-cf21-4119-86bc-0b89e2408ad0",
   "metadata": {},
   "outputs": [],
   "source": [
    "ANS2) String: A string is a specific data type used to represent textual data. It holds a sequence of characters and provides various methods and operations for working with and manipulating text.\n",
    "Variable: A variable is a named storage location that holds a value. It can store values of different data types, including strings, numbers, or other objects. Variables provide a way to refer to and manipulate data within a program. They can be assigned and reassigned values as needed."
   ]
  },
  {
   "cell_type": "code",
   "execution_count": null,
   "id": "1b9cc992-eed1-46de-bed1-d871bb44695e",
   "metadata": {},
   "outputs": [],
   "source": [
    "3. Describe three different data types."
   ]
  },
  {
   "cell_type": "code",
   "execution_count": null,
   "id": "83d2f257-5508-4c55-9479-aff30cad2cff",
   "metadata": {},
   "outputs": [],
   "source": [
    "ANS3) Integer (int):\n",
    "The integer data type represents whole numbers without decimal points. It can be positive or negative, including zero. For example: 5, -10, 0. Integers support mathematical operations like addition, subtraction, multiplication, and division.\n",
    "Float (float):\n",
    "The float data type represents numbers with decimal points. It is used to store real numbers, including both positive and negative values. For example: 3.14, -0.5, 2.0. Floats are useful for representing values that require precision and decimal accuracy in calculations.\n",
    "String (str):\n",
    "The string data type represents a sequence of characters. It is used to store and manipulate textual data, such as names, sentences, or any other combination of letters, digits, and symbols. Strings are enclosed in single quotes (''), double quotes (\"\") or triple quotes (''' '''). For example: 'hello', \"Python is fun!\", '''Multiline string'''. Strings offer various methods for text manipulation, searching, and formatting."
   ]
  },
  {
   "cell_type": "code",
   "execution_count": null,
   "id": "fce742c6-4f02-440d-a693-92cf2c848afc",
   "metadata": {},
   "outputs": [],
   "source": [
    "4. What is an expression made up of? What do all expressions do?"
   ]
  },
  {
   "cell_type": "code",
   "execution_count": null,
   "id": "77eb57c5-c5b7-4cd1-9b07-dd36b5a996d0",
   "metadata": {},
   "outputs": [],
   "source": [
    "An expression in Python is made up of one or more operators, operands, and variables, combined in a meaningful way to produce a value. It can include literals, variables, function calls, and operators. Expressions are used to perform computations, evaluate conditions, and produce results.\n",
    "\n",
    "Expressions are evaluated to produce a value or perform a specific action. They can be used in assignments, calculations, conditional statements, function calls, and more. When an expression is evaluated, the operators and operands are combined based on their precedence and associativity rules, resulting in a value or outcome.\n",
    "\n",
    "Expressions are the building blocks of Python programs, allowing you to perform computations, make decisions, iterate over data, and interact with users. They play a crucial role in manipulating and transforming data to achieve desired results in programming."
   ]
  },
  {
   "cell_type": "code",
   "execution_count": null,
   "id": "f0c5e42e-fa6c-4f7e-8eca-68433fab517d",
   "metadata": {},
   "outputs": [],
   "source": [
    "5. This assignment statements, like spam = 10. What is the difference between an\n",
    "expression and a statement?"
   ]
  },
  {
   "cell_type": "code",
   "execution_count": null,
   "id": "2bb0d058-4c69-47f6-9ace-65253bb287bb",
   "metadata": {},
   "outputs": [],
   "source": [
    "ANS5) In Python, expressions and statements are two fundamental concepts that serve different purposes:\n",
    "      In the given example, \"spam = 10\" is an assignment statement. It assigns the value 10 to the variable spam. It does not produce a result but rather changes the state of the program.\n",
    "\n",
    "      In summary, expressions are used to compute values, while statements are used to perform actions or control the flow of execution in a program."
   ]
  },
  {
   "cell_type": "code",
   "execution_count": null,
   "id": "dbfa2947-3b41-4f40-91b1-2e75414a9f24",
   "metadata": {},
   "outputs": [],
   "source": [
    "6. After running the following code, what does the variable bacon contain?\n",
    "bacon = 22\n",
    "bacon + 1"
   ]
  },
  {
   "cell_type": "code",
   "execution_count": 5,
   "id": "2c7989eb-936d-4278-8bee-f64ee404506d",
   "metadata": {},
   "outputs": [
    {
     "data": {
      "text/plain": [
       "23"
      ]
     },
     "execution_count": 5,
     "metadata": {},
     "output_type": "execute_result"
    }
   ],
   "source": [
    "'''ANS6) the bacon contain 23 ''' \n",
    "bacon = 22\n",
    "bacon + 1"
   ]
  },
  {
   "cell_type": "code",
   "execution_count": null,
   "id": "42301519-074e-4870-86a2-7ec45d399e8f",
   "metadata": {},
   "outputs": [],
   "source": [
    "7. What should the values of the following two terms be?\n",
    "&#39;spam&#39; + &#39;spamspam&#39;\n",
    "&#39;spam&#39; * 3"
   ]
  },
  {
   "cell_type": "code",
   "execution_count": 14,
   "id": "fc5216d1-a89b-408c-8c76-a138f4a4e193",
   "metadata": {},
   "outputs": [
    {
     "data": {
      "text/plain": [
       "'spamspamspam'"
      ]
     },
     "execution_count": 14,
     "metadata": {},
     "output_type": "execute_result"
    }
   ],
   "source": [
    "'''ANS7) The value for both the term will be =spamspamspam'''\n",
    "'spam' + 'spamspam'\n"
   ]
  },
  {
   "cell_type": "code",
   "execution_count": 12,
   "id": "0e607dec-9277-4ba2-a7c3-3e23805fd3ca",
   "metadata": {},
   "outputs": [
    {
     "data": {
      "text/plain": [
       "'spamspamspam'"
      ]
     },
     "execution_count": 12,
     "metadata": {},
     "output_type": "execute_result"
    }
   ],
   "source": [
    "'spam' * 3"
   ]
  },
  {
   "cell_type": "code",
   "execution_count": null,
   "id": "7718332c-1fae-49d0-bcdb-d4702bd3b2e4",
   "metadata": {},
   "outputs": [],
   "source": [
    "8. Why is eggs a valid variable name while 100 is invalid?"
   ]
  },
  {
   "cell_type": "code",
   "execution_count": null,
   "id": "45906bc9-4084-492e-a670-515556b6c519",
   "metadata": {},
   "outputs": [],
   "source": [
    "ANS8) \"eggs\" is a valid variable name because it consists of lowercase letters and does not start with a digit. It adheres to the naming conventions and is easily readable and meaningful.\n",
    "\"100\" is an invalid variable name because it starts with a digit. Python variable names cannot begin with a number."
   ]
  },
  {
   "cell_type": "code",
   "execution_count": null,
   "id": "69cb8f0d-3e6a-4d54-b3a0-871619e13d58",
   "metadata": {},
   "outputs": [],
   "source": [
    "9. What three functions can be used to get the integer, floating-point number, or string\n",
    "version of a value?"
   ]
  },
  {
   "cell_type": "code",
   "execution_count": null,
   "id": "6d68a60e-a5c9-43d9-b63a-ad128fae53ba",
   "metadata": {},
   "outputs": [],
   "source": [
    "ANS9) Below is the answer for the question:\n",
    "    Integer= int()\n",
    "    floating= float()\n",
    "    string= str()"
   ]
  },
  {
   "cell_type": "code",
   "execution_count": null,
   "id": "aa140778-acdd-488c-a980-5a4861d5ae79",
   "metadata": {},
   "outputs": [],
   "source": [
    "10. Why does this expression cause an error? How can you fix it?\n",
    "&#39;I have eaten &#39; + 99 + &#39; burritos.&#39;"
   ]
  },
  {
   "cell_type": "code",
   "execution_count": null,
   "id": "40a7b4f9-39a9-4999-929b-6e76ec6d17bd",
   "metadata": {},
   "outputs": [],
   "source": [
    "ANS10) The expression is casuning an error because of the below:\n",
    "    1. &#39; = this is an etitiy to an apostrophe character (')\n",
    "    2. 99= it should be entered in a qote so that concatination can be done\n",
    "    The correcet format is 'I have eaten ' + '99 ' + 'burritos.'"
   ]
  },
  {
   "cell_type": "code",
   "execution_count": 19,
   "id": "56d53b7d-532a-4a6b-9142-3edb1424a229",
   "metadata": {},
   "outputs": [
    {
     "data": {
      "text/plain": [
       "'I have eaten 99 burritos.'"
      ]
     },
     "execution_count": 19,
     "metadata": {},
     "output_type": "execute_result"
    }
   ],
   "source": [
    "'I have eaten ' + '99 ' + 'burritos.'"
   ]
  },
  {
   "cell_type": "code",
   "execution_count": null,
   "id": "4fafe331-191d-4f4f-919a-ed3190356051",
   "metadata": {},
   "outputs": [],
   "source": []
  }
 ],
 "metadata": {
  "kernelspec": {
   "display_name": "Python 3 (ipykernel)",
   "language": "python",
   "name": "python3"
  },
  "language_info": {
   "codemirror_mode": {
    "name": "ipython",
    "version": 3
   },
   "file_extension": ".py",
   "mimetype": "text/x-python",
   "name": "python",
   "nbconvert_exporter": "python",
   "pygments_lexer": "ipython3",
   "version": "3.10.6"
  }
 },
 "nbformat": 4,
 "nbformat_minor": 5
}
